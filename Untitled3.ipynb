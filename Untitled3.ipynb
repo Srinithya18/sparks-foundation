{
  "cells": [
    {
      "cell_type": "markdown",
      "metadata": {
        "id": "sJMtPOgP6t-d"
      },
      "source": [
        "\n",
        "THE SPARKS FOUNDATION\n",
        "\n",
        "NAME:NALLURU SRINITHYA\n",
        "\n",
        "DATA SCIENCE AND BUSINESS ANALYTICS\n",
        "\n",
        "TASK 7:STOCK MARKET PREDICTION USING NUMERICAL AND TEXUAL ANALYSIS\n",
        "\n",
        "OBJECTIVE:create a hybrid model for stock price/performance prediction using numerical analysis of historical stock prices and sentimental analysis of news headlines\n",
        "\n",
        "STOCK MARKET PREDICTION USING NUMERICAL AND TEXUAL ANALYSIS"
      ]
    },
    {
      "cell_type": "code",
      "execution_count": null,
      "metadata": {
        "id": "QkHOwUIl6yod"
      },
      "outputs": [],
      "source": [
        "import pandas as pd\n",
        "import numpy as np\n",
        "import matplotlib.pyplot as plt\n",
        "import seaborn as sns"
      ]
    },
    {
      "cell_type": "code",
      "execution_count": null,
      "metadata": {
        "id": "Bk8sTU5Ef2vw"
      },
      "outputs": [],
      "source": [
        "df1=pd.read_csv(\"/content/india-news-headlines.csv\")"
      ]
    },
    {
      "cell_type": "code",
      "execution_count": null,
      "metadata": {
        "id": "OMySOcPq-wRT"
      },
      "outputs": [],
      "source": [
        "df1.head()"
      ]
    },
    {
      "cell_type": "code",
      "execution_count": null,
      "metadata": {
        "id": "UBvXY4BE-zvj"
      },
      "outputs": [],
      "source": [
        "df1.info()"
      ]
    },
    {
      "cell_type": "code",
      "execution_count": null,
      "metadata": {
        "id": "GL7A7vHw7f1f"
      },
      "outputs": [],
      "source": [
        "df1.value_counts()"
      ]
    },
    {
      "cell_type": "code",
      "execution_count": null,
      "metadata": {
        "id": "sMTBiKH-7oc4"
      },
      "outputs": [],
      "source": [
        "df1.shape"
      ]
    },
    {
      "cell_type": "markdown",
      "metadata": {
        "id": "zSIoXnoPliRt"
      },
      "source": [
        "Loading Textual data"
      ]
    },
    {
      "cell_type": "code",
      "execution_count": null,
      "metadata": {
        "id": "mE1hZMD9lcp-"
      },
      "outputs": [],
      "source": [
        "df2=pd.read_csv(\"/content/Combined_News_DJIA.csv\")"
      ]
    },
    {
      "cell_type": "markdown",
      "metadata": {
        "id": "U47WJJV0l6mf"
      },
      "source": [
        "Loading Numerical data"
      ]
    },
    {
      "cell_type": "code",
      "execution_count": null,
      "metadata": {
        "id": "EdciQmJf7uJp"
      },
      "outputs": [],
      "source": [
        "df2.head()"
      ]
    },
    {
      "cell_type": "code",
      "execution_count": null,
      "metadata": {
        "id": "nmTtlC-QlvgJ"
      },
      "outputs": [],
      "source": [
        "df3=pd.read_csv(\"/content/upload_DJIA_table.csv\")"
      ]
    },
    {
      "cell_type": "code",
      "execution_count": null,
      "metadata": {
        "id": "O9jSzq7z8qce"
      },
      "outputs": [],
      "source": [
        "df3.head()"
      ]
    },
    {
      "cell_type": "markdown",
      "metadata": {
        "id": "Iv_f-jW7V5JA"
      },
      "source": [
        "As the top news is from 1 to 25 we will combine them into one"
      ]
    },
    {
      "cell_type": "code",
      "execution_count": null,
      "metadata": {
        "id": "Y9_s0QP2mEkS"
      },
      "outputs": [],
      "source": [
        "#combine the top news headlines\n",
        "headlines=[]\n",
        "for row in range(0,len(df2.index)):\n",
        "  headlines.append(''.join(str(x) for x in df2.iloc[row,2:27]))"
      ]
    },
    {
      "cell_type": "code",
      "execution_count": null,
      "metadata": {
        "id": "vlFE7QLg8V4W"
      },
      "outputs": [],
      "source": [
        "headlines[1]"
      ]
    },
    {
      "cell_type": "markdown",
      "metadata": {
        "id": "e77Nq3fEXq7t"
      },
      "source": [
        "Now we will clean the combined headline"
      ]
    },
    {
      "cell_type": "code",
      "execution_count": null,
      "metadata": {
        "id": "XBLWRkTrXpHU"
      },
      "outputs": [],
      "source": [
        "import re\n",
        "clean_headlines=[]\n",
        "for i in range(0,len(headlines)):\n",
        "  clean_headlines.append(re.sub(\"b[(')]+\",'',headlines[i]))\n",
        "  clean_headlines[i]=re.sub('b[(\")]+','',clean_headlines[i])\n",
        "  clean_headlines[i]=re.sub(\"\\'\",'',clean_headlines[i])"
      ]
    },
    {
      "cell_type": "code",
      "execution_count": null,
      "metadata": {
        "id": "vwk9OZpT83tn"
      },
      "outputs": [],
      "source": [
        "clean_headlines[i]"
      ]
    },
    {
      "cell_type": "code",
      "execution_count": null,
      "metadata": {
        "id": "EFjebuXuZZWn"
      },
      "outputs": [],
      "source": [
        "#Add the clean headlines to the data set\n",
        "df2['Combined_News']=clean_headlines"
      ]
    },
    {
      "cell_type": "code",
      "execution_count": null,
      "metadata": {
        "id": "0Xhukcvn8-sT"
      },
      "outputs": [],
      "source": [
        "df2.head()"
      ]
    },
    {
      "cell_type": "code",
      "execution_count": null,
      "metadata": {
        "id": "zoxjODvA9Cbg"
      },
      "outputs": [],
      "source": [
        "print(df2.columns)"
      ]
    },
    {
      "cell_type": "code",
      "execution_count": null,
      "metadata": {
        "id": "N_-M9w6k9KK3"
      },
      "outputs": [],
      "source": [
        "df2.isnull().sum()"
      ]
    },
    {
      "cell_type": "code",
      "execution_count": null,
      "metadata": {
        "id": "CdniATRF9ObQ"
      },
      "outputs": [],
      "source": [
        "all_headlines=''.join(df2['Combined_News'].str.lower())"
      ]
    },
    {
      "cell_type": "code",
      "execution_count": null,
      "metadata": {
        "id": "T8yRwYp_9Sc-"
      },
      "outputs": [],
      "source": [
        "df2['Combined_News'].str.len().hist()\n",
        "plt.figure(figsize=(6,4))\n",
        "plt.show()"
      ]
    },
    {
      "cell_type": "markdown",
      "metadata": {
        "id": "oP7ZzFKBbQIT"
      },
      "source": [
        "Upload DJIA_table.csv"
      ]
    },
    {
      "cell_type": "code",
      "execution_count": null,
      "metadata": {
        "id": "cXJ9ATmNyes5"
      },
      "outputs": [],
      "source": [
        "df3=pd.read_csv(\"/content/upload_DJIA_table.csv\")"
      ]
    },
    {
      "cell_type": "code",
      "execution_count": null,
      "metadata": {
        "id": "9s5M0ujo9XdA"
      },
      "outputs": [],
      "source": [
        "df3.head()"
      ]
    },
    {
      "cell_type": "code",
      "execution_count": null,
      "metadata": {
        "id": "AbzJh-7X9aVE"
      },
      "outputs": [],
      "source": [
        "df3.describe()"
      ]
    },
    {
      "cell_type": "code",
      "execution_count": null,
      "metadata": {
        "id": "cqcQIizu9eAg"
      },
      "outputs": [],
      "source": [
        "df3.info()"
      ]
    },
    {
      "cell_type": "code",
      "execution_count": null,
      "metadata": {
        "id": "G2VgDN-P9g9k"
      },
      "outputs": [],
      "source": [
        "df3.isnull().sum()"
      ]
    },
    {
      "cell_type": "markdown",
      "metadata": {
        "id": "kHVB3igYcNoz"
      },
      "source": [
        "Visualizing the dataset"
      ]
    },
    {
      "cell_type": "code",
      "execution_count": null,
      "metadata": {
        "id": "84k3Renn9m6y"
      },
      "outputs": [],
      "source": [
        "#stacked graph\n",
        "import numpy as np\n",
        "import matplotlib.pyplot as plt\n",
        "a,b=100,10\n",
        "x=a+b*np.random.randn(200,3)\n",
        "n,bins,patches=plt.hist(x,20,stacked=True)\n",
        "plt.show()"
      ]
    },
    {
      "cell_type": "code",
      "execution_count": null,
      "metadata": {
        "id": "VziXuFmh9qtz"
      },
      "outputs": [],
      "source": [
        "#splitting data into train and valid\n",
        "train=df3[:700]\n",
        "valid=df3[700:]"
      ]
    },
    {
      "cell_type": "code",
      "execution_count": null,
      "metadata": {
        "id": "3VOgxL9m9v7g"
      },
      "outputs": [],
      "source": [
        "train.head()"
      ]
    },
    {
      "cell_type": "code",
      "execution_count": null,
      "metadata": {
        "id": "zMblklfCdHZT"
      },
      "outputs": [],
      "source": [
        "training=train['Close']\n",
        "validation=valid['Close']"
      ]
    },
    {
      "cell_type": "code",
      "execution_count": null,
      "metadata": {
        "id": "BmpxC3hi9zo3"
      },
      "outputs": [],
      "source": [
        "training.head()"
      ]
    },
    {
      "cell_type": "markdown",
      "metadata": {
        "id": "6WEDatQtdUMf"
      },
      "source": [
        "Using Vader model for sentiment analysis"
      ]
    },
    {
      "cell_type": "code",
      "execution_count": null,
      "metadata": {
        "colab": {
          "base_uri": "https://localhost:8080/"
        },
        "id": "HMTZElv-dO8z",
        "outputId": "fab3568d-f4de-41a3-ad0b-b05fe59384cf"
      },
      "outputs": [
        {
          "name": "stdout",
          "output_type": "stream",
          "text": [
            "Requirement already satisfied: vaderSentiment in /usr/local/lib/python3.7/dist-packages (3.3.2)\n",
            "Requirement already satisfied: requests in /usr/local/lib/python3.7/dist-packages (from vaderSentiment) (2.23.0)\n",
            "Requirement already satisfied: certifi>=2017.4.17 in /usr/local/lib/python3.7/dist-packages (from requests->vaderSentiment) (2021.10.8)\n",
            "Requirement already satisfied: chardet<4,>=3.0.2 in /usr/local/lib/python3.7/dist-packages (from requests->vaderSentiment) (3.0.4)\n",
            "Requirement already satisfied: idna<3,>=2.5 in /usr/local/lib/python3.7/dist-packages (from requests->vaderSentiment) (2.10)\n",
            "Requirement already satisfied: urllib3!=1.25.0,!=1.25.1,<1.26,>=1.21.1 in /usr/local/lib/python3.7/dist-packages (from requests->vaderSentiment) (1.24.3)\n"
          ]
        }
      ],
      "source": [
        "pip install vaderSentiment"
      ]
    },
    {
      "cell_type": "code",
      "execution_count": null,
      "metadata": {
        "id": "VW9PT5d6ddYG"
      },
      "outputs": [],
      "source": [
        "import pandas as pd\n",
        "import numpy as np\n",
        "from textblob import TextBlob\n",
        "import re\n",
        "import nltk\n",
        "from vaderSentiment.vaderSentiment import SentimentIntensityAnalyzer"
      ]
    },
    {
      "cell_type": "markdown",
      "metadata": {
        "id": "MebPwgtgeGru"
      },
      "source": [
        "Splitting data into training and testing dataset"
      ]
    },
    {
      "cell_type": "code",
      "execution_count": null,
      "metadata": {
        "id": "nEgDAu0Gd7H5"
      },
      "outputs": [],
      "source": [
        "x=df3.drop('Date',axis=1)\n",
        "y=df3['Date']"
      ]
    },
    {
      "cell_type": "code",
      "execution_count": null,
      "metadata": {
        "id": "FamxIes995Up"
      },
      "outputs": [],
      "source": [
        "y.value_counts()"
      ]
    },
    {
      "cell_type": "code",
      "execution_count": null,
      "metadata": {
        "id": "7JMnC-DS988b"
      },
      "outputs": [],
      "source": [
        "x.shape"
      ]
    },
    {
      "cell_type": "code",
      "execution_count": null,
      "metadata": {
        "id": "wh8tDkDy-Bz8"
      },
      "outputs": [],
      "source": [
        "y.shape"
      ]
    },
    {
      "cell_type": "code",
      "execution_count": null,
      "metadata": {
        "id": "K3gP9D4--hIF"
      },
      "outputs": [],
      "source": [
        "x.head()"
      ]
    },
    {
      "cell_type": "code",
      "execution_count": null,
      "metadata": {
        "id": "wlyaWYKw-cuN"
      },
      "outputs": [],
      "source": [
        "y.head()"
      ]
    },
    {
      "cell_type": "markdown",
      "metadata": {
        "id": "SW9YPLCkfdLT"
      },
      "source": [
        "SVM method"
      ]
    },
    {
      "cell_type": "code",
      "execution_count": null,
      "metadata": {
        "id": "_28vaqC6faxw"
      },
      "outputs": [],
      "source": [
        "from sklearn.model_selection import train_test_split"
      ]
    },
    {
      "cell_type": "code",
      "execution_count": null,
      "metadata": {
        "id": "M_kryF_Tfkqc"
      },
      "outputs": [],
      "source": [
        "x_train,x_test,y_train,y_test=train_test_split(x,y,test_size=0.2,random_state=0)"
      ]
    },
    {
      "cell_type": "code",
      "execution_count": null,
      "metadata": {
        "id": "r_FkUsxT-V1q"
      },
      "outputs": [],
      "source": [
        "from sklearn.svm import SVC\n",
        "svclassifier=SVC(kernel='poly',degree=3,class_weight='balanced')\n",
        "svclassifier.fit(x_train,y_train)"
      ]
    },
    {
      "cell_type": "code",
      "execution_count": null,
      "metadata": {
        "id": "6wfbdpMKgOlq"
      },
      "outputs": [],
      "source": [
        "y_pred=svclassifier.predict(x_test)"
      ]
    },
    {
      "cell_type": "code",
      "execution_count": null,
      "metadata": {
        "id": "d5QJroFm-NP8"
      },
      "outputs": [],
      "source": [
        "from sklearn.metrics import classification_report,confusion_matrix\n",
        "print(confusion_matrix(y_test,y_pred))"
      ]
    },
    {
      "cell_type": "code",
      "execution_count": null,
      "metadata": {
        "id": "l5ZQYRyA-JOP"
      },
      "outputs": [],
      "source": [
        "print(classification_report(y_test,y_pred))"
      ]
    },
    {
      "cell_type": "code",
      "execution_count": null,
      "metadata": {
        "id": "aUWU1dCFgpBv"
      },
      "outputs": [],
      "source": []
    }
  ],
  "metadata": {
    "colab": {
      "collapsed_sections": [],
      "name": "Untitled3.ipynb",
      "provenance": []
    },
    "kernelspec": {
      "display_name": "Python 3",
      "name": "python3"
    },
    "language_info": {
      "name": "python"
    }
  },
  "nbformat": 4,
  "nbformat_minor": 0
}
